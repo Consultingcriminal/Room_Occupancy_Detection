{
 "cells": [
  {
   "cell_type": "code",
   "execution_count": 1,
   "metadata": {},
   "outputs": [],
   "source": [
    "import pandas as pd\n",
    "import numpy as np \n",
    "import matplotlib.pyplot as plt\n",
    "plt.style.use('fivethirtyeight')\n",
    "%matplotlib inline\n",
    "\n",
    "import warnings\n",
    "warnings.filterwarnings('ignore')\n",
    "\n",
    "from sklearn.metrics import mean_squared_error\n",
    "import math\n"
   ]
  },
  {
   "cell_type": "code",
   "execution_count": 3,
   "metadata": {},
   "outputs": [],
   "source": [
    "dfT=pd.read_csv('Temp.csv')"
   ]
  },
  {
   "cell_type": "code",
   "execution_count": 4,
   "metadata": {},
   "outputs": [
    {
     "data": {
      "text/html": [
       "<div>\n",
       "<style scoped>\n",
       "    .dataframe tbody tr th:only-of-type {\n",
       "        vertical-align: middle;\n",
       "    }\n",
       "\n",
       "    .dataframe tbody tr th {\n",
       "        vertical-align: top;\n",
       "    }\n",
       "\n",
       "    .dataframe thead th {\n",
       "        text-align: right;\n",
       "    }\n",
       "</style>\n",
       "<table border=\"1\" class=\"dataframe\">\n",
       "  <thead>\n",
       "    <tr style=\"text-align: right;\">\n",
       "      <th></th>\n",
       "      <th>date</th>\n",
       "      <th>Temperature</th>\n",
       "    </tr>\n",
       "  </thead>\n",
       "  <tbody>\n",
       "    <tr>\n",
       "      <th>0</th>\n",
       "      <td>2015-02-04 17:51:00</td>\n",
       "      <td>23.18</td>\n",
       "    </tr>\n",
       "    <tr>\n",
       "      <th>1</th>\n",
       "      <td>2015-02-04 17:51:59</td>\n",
       "      <td>23.15</td>\n",
       "    </tr>\n",
       "    <tr>\n",
       "      <th>2</th>\n",
       "      <td>2015-02-04 17:53:00</td>\n",
       "      <td>23.15</td>\n",
       "    </tr>\n",
       "    <tr>\n",
       "      <th>3</th>\n",
       "      <td>2015-02-04 17:54:00</td>\n",
       "      <td>23.15</td>\n",
       "    </tr>\n",
       "    <tr>\n",
       "      <th>4</th>\n",
       "      <td>2015-02-04 17:55:00</td>\n",
       "      <td>23.10</td>\n",
       "    </tr>\n",
       "    <tr>\n",
       "      <th>...</th>\n",
       "      <td>...</td>\n",
       "      <td>...</td>\n",
       "    </tr>\n",
       "    <tr>\n",
       "      <th>8138</th>\n",
       "      <td>2015-02-10 09:29:00</td>\n",
       "      <td>21.05</td>\n",
       "    </tr>\n",
       "    <tr>\n",
       "      <th>8139</th>\n",
       "      <td>2015-02-10 09:29:59</td>\n",
       "      <td>21.05</td>\n",
       "    </tr>\n",
       "    <tr>\n",
       "      <th>8140</th>\n",
       "      <td>2015-02-10 09:30:59</td>\n",
       "      <td>21.10</td>\n",
       "    </tr>\n",
       "    <tr>\n",
       "      <th>8141</th>\n",
       "      <td>2015-02-10 09:32:00</td>\n",
       "      <td>21.10</td>\n",
       "    </tr>\n",
       "    <tr>\n",
       "      <th>8142</th>\n",
       "      <td>2015-02-10 09:33:00</td>\n",
       "      <td>21.10</td>\n",
       "    </tr>\n",
       "  </tbody>\n",
       "</table>\n",
       "<p>8143 rows × 2 columns</p>\n",
       "</div>"
      ],
      "text/plain": [
       "                     date  Temperature\n",
       "0     2015-02-04 17:51:00        23.18\n",
       "1     2015-02-04 17:51:59        23.15\n",
       "2     2015-02-04 17:53:00        23.15\n",
       "3     2015-02-04 17:54:00        23.15\n",
       "4     2015-02-04 17:55:00        23.10\n",
       "...                   ...          ...\n",
       "8138  2015-02-10 09:29:00        21.05\n",
       "8139  2015-02-10 09:29:59        21.05\n",
       "8140  2015-02-10 09:30:59        21.10\n",
       "8141  2015-02-10 09:32:00        21.10\n",
       "8142  2015-02-10 09:33:00        21.10\n",
       "\n",
       "[8143 rows x 2 columns]"
      ]
     },
     "execution_count": 4,
     "metadata": {},
     "output_type": "execute_result"
    }
   ],
   "source": [
    "dfT"
   ]
  },
  {
   "cell_type": "code",
   "execution_count": 6,
   "metadata": {},
   "outputs": [],
   "source": [
    "df1=dfT.reset_index()['Temperature']"
   ]
  },
  {
   "cell_type": "code",
   "execution_count": 7,
   "metadata": {},
   "outputs": [
    {
     "data": {
      "text/plain": [
       "0       23.18\n",
       "1       23.15\n",
       "2       23.15\n",
       "3       23.15\n",
       "4       23.10\n",
       "        ...  \n",
       "8138    21.05\n",
       "8139    21.05\n",
       "8140    21.10\n",
       "8141    21.10\n",
       "8142    21.10\n",
       "Name: Temperature, Length: 8143, dtype: float64"
      ]
     },
     "execution_count": 7,
     "metadata": {},
     "output_type": "execute_result"
    }
   ],
   "source": [
    "df1"
   ]
  },
  {
   "cell_type": "code",
   "execution_count": 8,
   "metadata": {},
   "outputs": [
    {
     "data": {
      "text/plain": [
       "<matplotlib.axes._subplots.AxesSubplot at 0x7fe26e53f690>"
      ]
     },
     "execution_count": 8,
     "metadata": {},
     "output_type": "execute_result"
    },
    {
     "data": {
      "image/png": "[encoded data removed]",
      "text/plain": [
       "<Figure size 432x288 with 1 Axes>"
      ]
     },
     "metadata": {
      "needs_background": "light"
     },
     "output_type": "display_data"
    }
   ],
   "source": [
    "df1.plot()"
   ]
  },
  {
   "cell_type": "code",
   "execution_count": 10,
   "metadata": {},
   "outputs": [],
   "source": [
    "from sklearn.preprocessing import MinMaxScaler\n",
    "scaler=MinMaxScaler(feature_range=(0,1))\n",
    "df1=scaler.fit_transform(np.array(df1).reshape(-1,1))"
   ]
  },
  {
   "cell_type": "code",
   "execution_count": 12,
   "metadata": {},
   "outputs": [],
   "source": [
    "training_size=int(len(df1)*0.8)\n",
    "test_size=len(df1)-training_size\n",
    "train_data,test_data=df1[0:training_size,:],df1[training_size:len(df1),:]"
   ]
  },
  {
   "cell_type": "code",
   "execution_count": 13,
   "metadata": {},
   "outputs": [
    {
     "data": {
      "text/plain": [
       "6514"
      ]
     },
     "execution_count": 13,
     "metadata": {},
     "output_type": "execute_result"
    }
   ],
   "source": [
    "len(train_data)"
   ]
  },
  {
   "cell_type": "code",
   "execution_count": 14,
   "metadata": {},
   "outputs": [],
   "source": [
    "#Creating Dataset\n",
    "def create_dataset(dataset,time_step=1):\n",
    "    dataX,dataY=[],[]\n",
    "    for i in range(len(dataset)-time_step-1):\n",
    "        a=dataset[i:(i+time_step),0]\n",
    "        dataX.append(a)\n",
    "        dataY.append(dataset[i+ time_step,0])\n",
    "    return np.array(dataX),np.array(dataY)    "
   ]
  },
  {
   "cell_type": "code",
   "execution_count": 15,
   "metadata": {},
   "outputs": [],
   "source": [
    "time_step=10\n",
    "X_train,y_train=create_dataset(train_data,time_step)\n",
    "X_test,y_test=create_dataset(test_data,time_step)"
   ]
  },
  {
   "cell_type": "code",
   "execution_count": 16,
   "metadata": {},
   "outputs": [
    {
     "name": "stdout",
     "output_type": "stream",
     "text": [
      "(6503, 10) (6503,)\n"
     ]
    }
   ],
   "source": [
    "print(X_train.shape,y_train.shape)"
   ]
  },
  {
   "cell_type": "code",
   "execution_count": 17,
   "metadata": {},
   "outputs": [],
   "source": [
    "X_train=X_train.reshape(X_train.shape[0],X_train.shape[1],1)\n",
    "X_test=X_test.reshape(X_test.shape[0],X_test.shape[1],1)"
   ]
  },
  {
   "cell_type": "code",
   "execution_count": null,
   "metadata": {},
   "outputs": [],
   "source": []
  },
  {
   "cell_type": "code",
   "execution_count": null,
   "metadata": {},
   "outputs": [],
   "source": []
  },
  {
   "cell_type": "code",
   "execution_count": 18,
   "metadata": {},
   "outputs": [],
   "source": [
    "#Creating a LSTM Model\n",
    "import tensorflow as tf\n",
    "from tensorflow.keras.models import Sequential\n",
    "from tensorflow.keras.layers import Dense,Dropout,LSTM\n",
    "from tensorflow.keras.callbacks import ModelCheckpoint, EarlyStopping,LearningRateScheduler"
   ]
  },
  {
   "cell_type": "code",
   "execution_count": 19,
   "metadata": {},
   "outputs": [],
   "source": [
    "early = EarlyStopping(monitor='val_loss', min_delta=0, patience=20, verbose=1, mode='auto')\n",
    "\n",
    "def scheduler(epoch):\n",
    "  if epoch < 10:\n",
    "    return 0.0001\n",
    "  else:\n",
    "    return 0.0001 * tf.math.exp(0.1 * (10 - epoch))\n",
    "\n",
    "LearningRateScheduler = tf.keras.callbacks.LearningRateScheduler(scheduler)"
   ]
  },
  {
   "cell_type": "code",
   "execution_count": 20,
   "metadata": {},
   "outputs": [],
   "source": [
    "model=Sequential()\n",
    "model.add(LSTM(64,return_sequences=True,input_shape=(time_step,1),name='Input_Layer'))\n",
    "model.add(LSTM(32,return_sequences=True,recurrent_dropout=0.4,name='LSTM1'))\n",
    "model.add(LSTM(64,return_sequences=True,recurrent_dropout=0.4,name='LSTM2'))\n",
    "model.add(LSTM(64,recurrent_dropout=0.2,name='LSTM3'))\n",
    "model.add(Dense(1,activation='linear'))\n",
    "model.compile(loss='mean_squared_error',optimizer='adam')"
   ]
  },
  {
   "cell_type": "code",
   "execution_count": 21,
   "metadata": {},
   "outputs": [
    {
     "name": "stdout",
     "output_type": "stream",
     "text": [
      "Model: \"sequential\"\n",
      "_________________________________________________________________\n",
      "Layer (type)                 Output Shape              Param #   \n",
      "=================================================================\n",
      "Input_Layer (LSTM)           (None, 10, 64)            16896     \n",
      "_________________________________________________________________\n",
      "LSTM1 (LSTM)                 (None, 10, 32)            12416     \n",
      "_________________________________________________________________\n",
      "LSTM2 (LSTM)                 (None, 10, 64)            24832     \n",
      "_________________________________________________________________\n",
      "LSTM3 (LSTM)                 (None, 64)                33024     \n",
      "_________________________________________________________________\n",
      "dense (Dense)                (None, 1)                 65        \n",
      "=================================================================\n",
      "Total params: 87,233\n",
      "Trainable params: 87,233\n",
      "Non-trainable params: 0\n",
      "_________________________________________________________________\n"
     ]
    }
   ],
   "source": [
    "model.summary()"
   ]
  },
  {
   "cell_type": "code",
   "execution_count": 22,
   "metadata": {},
   "outputs": [
    {
     "name": "stdout",
     "output_type": "stream",
     "text": [
      "Train on 6503 samples, validate on 1618 samples\n",
      "Epoch 1/25\n",
      "6503/6503 [==============================] - 29s 4ms/sample - loss: 0.0477 - val_loss: 4.1020e-04\n",
      "Epoch 2/25\n",
      "6503/6503 [==============================] - 19s 3ms/sample - loss: 0.0014 - val_loss: 4.1567e-04\n",
      "Epoch 3/25\n",
      "6503/6503 [==============================] - 19s 3ms/sample - loss: 9.8548e-04 - val_loss: 3.0438e-04\n",
      "Epoch 4/25\n",
      "6503/6503 [==============================] - 18s 3ms/sample - loss: 6.7828e-04 - val_loss: 2.6482e-04\n",
      "Epoch 5/25\n",
      "6503/6503 [==============================] - 19s 3ms/sample - loss: 5.5568e-04 - val_loss: 2.4477e-04\n",
      "Epoch 6/25\n",
      "6503/6503 [==============================] - 19s 3ms/sample - loss: 4.7282e-04 - val_loss: 2.6050e-04\n",
      "Epoch 7/25\n",
      "6503/6503 [==============================] - 20s 3ms/sample - loss: 4.2045e-04 - val_loss: 3.9532e-04\n",
      "Epoch 8/25\n",
      "6503/6503 [==============================] - 19s 3ms/sample - loss: 4.0184e-04 - val_loss: 2.4331e-04\n",
      "Epoch 9/25\n",
      "6503/6503 [==============================] - 19s 3ms/sample - loss: 3.5672e-04 - val_loss: 2.3437e-04\n",
      "Epoch 10/25\n",
      "6503/6503 [==============================] - 19s 3ms/sample - loss: 3.5036e-04 - val_loss: 2.3108e-04\n",
      "Epoch 11/25\n",
      "6503/6503 [==============================] - 19s 3ms/sample - loss: 3.2714e-04 - val_loss: 2.7677e-04\n",
      "Epoch 12/25\n",
      "6503/6503 [==============================] - 22s 3ms/sample - loss: 3.1499e-04 - val_loss: 2.3912e-04\n",
      "Epoch 13/25\n",
      "6503/6503 [==============================] - 21s 3ms/sample - loss: 3.0760e-04 - val_loss: 2.3671e-04\n",
      "Epoch 14/25\n",
      "6503/6503 [==============================] - 21s 3ms/sample - loss: 2.9906e-04 - val_loss: 2.8422e-04\n",
      "Epoch 15/25\n",
      "6503/6503 [==============================] - 21s 3ms/sample - loss: 2.9761e-04 - val_loss: 2.4628e-04\n",
      "Epoch 16/25\n",
      "6503/6503 [==============================] - 21s 3ms/sample - loss: 2.9350e-04 - val_loss: 2.2250e-04\n",
      "Epoch 17/25\n",
      "6503/6503 [==============================] - 21s 3ms/sample - loss: 2.8460e-04 - val_loss: 2.3610e-04\n",
      "Epoch 18/25\n",
      "6503/6503 [==============================] - 21s 3ms/sample - loss: 2.8210e-04 - val_loss: 2.3595e-04\n",
      "Epoch 19/25\n",
      "6503/6503 [==============================] - 24s 4ms/sample - loss: 2.7922e-04 - val_loss: 2.2402e-04\n",
      "Epoch 20/25\n",
      "6503/6503 [==============================] - 47s 7ms/sample - loss: 2.7659e-04 - val_loss: 2.3724e-04\n",
      "Epoch 21/25\n",
      "6503/6503 [==============================] - 58s 9ms/sample - loss: 2.7124e-04 - val_loss: 2.3099e-04\n",
      "Epoch 22/25\n",
      "6503/6503 [==============================] - 64s 10ms/sample - loss: 2.6902e-04 - val_loss: 2.4513e-04\n",
      "Epoch 23/25\n",
      "6503/6503 [==============================] - 67s 10ms/sample - loss: 2.7632e-04 - val_loss: 2.3561e-04\n",
      "Epoch 24/25\n",
      "6503/6503 [==============================] - 63s 10ms/sample - loss: 2.6789e-04 - val_loss: 2.2271e-04\n",
      "Epoch 25/25\n",
      "6503/6503 [==============================] - 62s 10ms/sample - loss: 2.6916e-04 - val_loss: 2.2416e-04\n"
     ]
    },
    {
     "data": {
      "text/plain": [
       "<tensorflow.python.keras.callbacks.History at 0x7fe2441c2ad0>"
      ]
     },
     "execution_count": 22,
     "metadata": {},
     "output_type": "execute_result"
    }
   ],
   "source": [
    "model.fit(X_train,y_train,validation_data=(X_test,y_test),epochs=25,batch_size=32,verbose=1,callbacks=[LearningRateScheduler,early])"
   ]
  },
  {
   "cell_type": "code",
   "execution_count": 24,
   "metadata": {},
   "outputs": [],
   "source": [
    "test_predict=model.predict(X_test)"
   ]
  },
  {
   "cell_type": "code",
   "execution_count": 25,
   "metadata": {},
   "outputs": [],
   "source": [
    "test_predict=scaler.inverse_transform(test_predict)"
   ]
  },
  {
   "cell_type": "code",
   "execution_count": 28,
   "metadata": {},
   "outputs": [
    {
     "data": {
      "text/plain": [
       "20.281058277232674"
      ]
     },
     "execution_count": 28,
     "metadata": {},
     "output_type": "execute_result"
    }
   ],
   "source": [
    "math.sqrt(mean_squared_error(y_test,test_predict))"
   ]
  },
  {
   "cell_type": "code",
   "execution_count": 29,
   "metadata": {},
   "outputs": [
    {
     "data": {
      "text/plain": [
       "array([[19.396378],\n",
       "       [19.395535],\n",
       "       [19.39446 ],\n",
       "       ...,\n",
       "       [20.992308],\n",
       "       [21.003292],\n",
       "       [21.00731 ]], dtype=float32)"
      ]
     },
     "execution_count": 29,
     "metadata": {},
     "output_type": "execute_result"
    }
   ],
   "source": [
    "test_predict"
   ]
  },
  {
   "cell_type": "code",
   "execution_count": 32,
   "metadata": {},
   "outputs": [],
   "source": [
    "df=pd.DataFrame(test_predict)"
   ]
  },
  {
   "cell_type": "code",
   "execution_count": 33,
   "metadata": {},
   "outputs": [
    {
     "data": {
      "text/html": [
       "<div>\n",
       "<style scoped>\n",
       "    .dataframe tbody tr th:only-of-type {\n",
       "        vertical-align: middle;\n",
       "    }\n",
       "\n",
       "    .dataframe tbody tr th {\n",
       "        vertical-align: top;\n",
       "    }\n",
       "\n",
       "    .dataframe thead th {\n",
       "        text-align: right;\n",
       "    }\n",
       "</style>\n",
       "<table border=\"1\" class=\"dataframe\">\n",
       "  <thead>\n",
       "    <tr style=\"text-align: right;\">\n",
       "      <th></th>\n",
       "      <th>0</th>\n",
       "    </tr>\n",
       "  </thead>\n",
       "  <tbody>\n",
       "    <tr>\n",
       "      <th>0</th>\n",
       "      <td>19.396378</td>\n",
       "    </tr>\n",
       "    <tr>\n",
       "      <th>1</th>\n",
       "      <td>19.395535</td>\n",
       "    </tr>\n",
       "    <tr>\n",
       "      <th>2</th>\n",
       "      <td>19.394461</td>\n",
       "    </tr>\n",
       "    <tr>\n",
       "      <th>3</th>\n",
       "      <td>19.392784</td>\n",
       "    </tr>\n",
       "    <tr>\n",
       "      <th>4</th>\n",
       "      <td>19.389973</td>\n",
       "    </tr>\n",
       "    <tr>\n",
       "      <th>...</th>\n",
       "      <td>...</td>\n",
       "    </tr>\n",
       "    <tr>\n",
       "      <th>1613</th>\n",
       "      <td>20.953428</td>\n",
       "    </tr>\n",
       "    <tr>\n",
       "      <th>1614</th>\n",
       "      <td>20.974552</td>\n",
       "    </tr>\n",
       "    <tr>\n",
       "      <th>1615</th>\n",
       "      <td>20.992308</td>\n",
       "    </tr>\n",
       "    <tr>\n",
       "      <th>1616</th>\n",
       "      <td>21.003292</td>\n",
       "    </tr>\n",
       "    <tr>\n",
       "      <th>1617</th>\n",
       "      <td>21.007311</td>\n",
       "    </tr>\n",
       "  </tbody>\n",
       "</table>\n",
       "<p>1618 rows × 1 columns</p>\n",
       "</div>"
      ],
      "text/plain": [
       "              0\n",
       "0     19.396378\n",
       "1     19.395535\n",
       "2     19.394461\n",
       "3     19.392784\n",
       "4     19.389973\n",
       "...         ...\n",
       "1613  20.953428\n",
       "1614  20.974552\n",
       "1615  20.992308\n",
       "1616  21.003292\n",
       "1617  21.007311\n",
       "\n",
       "[1618 rows x 1 columns]"
      ]
     },
     "execution_count": 33,
     "metadata": {},
     "output_type": "execute_result"
    }
   ],
   "source": [
    "df"
   ]
  },
  {
   "cell_type": "code",
   "execution_count": 34,
   "metadata": {},
   "outputs": [],
   "source": [
    "df.to_csv('TempPred.csv')"
   ]
  },
  {
   "cell_type": "code",
   "execution_count": 1,
   "metadata": {},
   "outputs": [],
   "source": [
    "#Similarly Running An LSTM Network For the other 3 features"
   ]
  },
  {
   "cell_type": "code",
   "execution_count": null,
   "metadata": {},
   "outputs": [],
   "source": []
  }
 ],
 "metadata": {
  "kernelspec": {
   "display_name": "Python 3",
   "language": "python",
   "name": "python3"
  },
  "language_info": {
   "codemirror_mode": {
    "name": "ipython",
    "version": 3
   },
   "file_extension": ".py",
   "mimetype": "text/x-python",
   "name": "python",
   "nbconvert_exporter": "python",
   "pygments_lexer": "ipython3",
   "version": "3.7.7"
  }
 },
 "nbformat": 4,
 "nbformat_minor": 4
}
